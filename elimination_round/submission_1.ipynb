{
 "cells": [
  {
   "cell_type": "code",
   "execution_count": 1,
   "metadata": {},
   "outputs": [],
   "source": [
    "#Prepare data\n",
    "from time import time\n",
    "import csv\n",
    "import pandas as pd\n",
    "import numpy as np\n",
    "import matplotlib.pyplot as plt\n",
    "import seaborn as sns\n",
    "from tqdm.notebook import tqdm_notebook\n",
    "from sklearn.preprocessing import LabelEncoder, StandardScaler\n",
    "\n",
    "#Building model\n",
    "from sklearn.model_selection import StratifiedKFold\n",
    "from sklearn.ensemble import RandomForestClassifier\n",
    "from sklearn.metrics import confusion_matrix, f1_score\n",
    "from xgboost import XGBClassifier\n",
    "from lightgbm import LGBMClassifier\n",
    "import lightgbm as lgb\n",
    "\n",
    "#other\n",
    "import warnings\n",
    "warnings.filterwarnings('ignore')"
   ]
  },
  {
   "cell_type": "markdown",
   "metadata": {},
   "source": [
    "## 1. Data Preparation"
   ]
  },
  {
   "cell_type": "code",
   "execution_count": 2,
   "metadata": {},
   "outputs": [
    {
     "name": "stdout",
     "output_type": "stream",
     "text": [
      "CPU times: total: 20.1 s\n",
      "Wall time: 20.3 s\n"
     ]
    }
   ],
   "source": [
    "%%time\n",
    "\n",
    "cols = [\"PSTV01\",\"PSTV02\",\"PSTV15\",\"FKP02\",\"FKP03\",\"FKP04\",\"FKP05\",\"FKP06\",\n",
    "        \"FKP07\",\"FKP08\",\"FKP09\",\"FKP10\",\"FKP11\",\"FKP12\",\"FKP14\",\"FKP14A\",\n",
    "        \"FKP15\",\"FKP15A\",\"FKP16\",\"FKP17\",\"FKP18\",\"FKP19\",\"FKP20\",\"FKP21\",\n",
    "        \"FKP22\",\"FKP13Class\"]\n",
    "\n",
    "ori_data = pd.read_csv(\"train_fktp.txt\", names=cols)\n",
    "test_data = pd.read_csv(\"test_fktp.txt\", names=cols[:-1])\n",
    "\n",
    "target_col = \"FKP02\"\n",
    "test_data_ids = test_data[target_col]\n",
    "\n",
    "pd.set_option('display.max_columns', None)\n",
    "train_data = ori_data.copy()"
   ]
  },
  {
   "cell_type": "code",
   "execution_count": 3,
   "metadata": {},
   "outputs": [
    {
     "data": {
      "text/html": [
       "<div>\n",
       "<style scoped>\n",
       "    .dataframe tbody tr th:only-of-type {\n",
       "        vertical-align: middle;\n",
       "    }\n",
       "\n",
       "    .dataframe tbody tr th {\n",
       "        vertical-align: top;\n",
       "    }\n",
       "\n",
       "    .dataframe thead th {\n",
       "        text-align: right;\n",
       "    }\n",
       "</style>\n",
       "<table border=\"1\" class=\"dataframe\">\n",
       "  <thead>\n",
       "    <tr style=\"text-align: right;\">\n",
       "      <th></th>\n",
       "      <th>PSTV01</th>\n",
       "      <th>PSTV02</th>\n",
       "      <th>PSTV15</th>\n",
       "      <th>FKP02</th>\n",
       "      <th>FKP03</th>\n",
       "      <th>FKP04</th>\n",
       "      <th>FKP05</th>\n",
       "      <th>FKP06</th>\n",
       "      <th>FKP07</th>\n",
       "      <th>FKP08</th>\n",
       "      <th>FKP09</th>\n",
       "      <th>FKP10</th>\n",
       "      <th>FKP11</th>\n",
       "      <th>FKP12</th>\n",
       "      <th>FKP14</th>\n",
       "      <th>FKP14A</th>\n",
       "      <th>FKP15</th>\n",
       "      <th>FKP15A</th>\n",
       "      <th>FKP16</th>\n",
       "      <th>FKP17</th>\n",
       "      <th>FKP18</th>\n",
       "      <th>FKP19</th>\n",
       "      <th>FKP20</th>\n",
       "      <th>FKP21</th>\n",
       "      <th>FKP22</th>\n",
       "      <th>FKP13Class</th>\n",
       "    </tr>\n",
       "  </thead>\n",
       "  <tbody>\n",
       "    <tr>\n",
       "      <th>0</th>\n",
       "      <td>157978748.0</td>\n",
       "      <td>50765420</td>\n",
       "      <td>20.064983</td>\n",
       "      <td>958073632</td>\n",
       "      <td>2019-08-01</td>\n",
       "      <td>2019-08-01</td>\n",
       "      <td>61</td>\n",
       "      <td>6108</td>\n",
       "      <td>3</td>\n",
       "      <td>1</td>\n",
       "      <td>4</td>\n",
       "      <td>1</td>\n",
       "      <td>12.0</td>\n",
       "      <td>2</td>\n",
       "      <td>9999</td>\n",
       "      <td>NaN</td>\n",
       "      <td>9999</td>\n",
       "      <td>9999</td>\n",
       "      <td>98</td>\n",
       "      <td>9998</td>\n",
       "      <td>98</td>\n",
       "      <td>98</td>\n",
       "      <td>98</td>\n",
       "      <td>98</td>\n",
       "      <td>2</td>\n",
       "      <td>Sehat</td>\n",
       "    </tr>\n",
       "    <tr>\n",
       "      <th>1</th>\n",
       "      <td>95085112.0</td>\n",
       "      <td>26931775</td>\n",
       "      <td>2.626307</td>\n",
       "      <td>449590620P000054</td>\n",
       "      <td>2020-06-17</td>\n",
       "      <td>2020-06-17</td>\n",
       "      <td>51</td>\n",
       "      <td>5171</td>\n",
       "      <td>9</td>\n",
       "      <td>3</td>\n",
       "      <td>2</td>\n",
       "      <td>1</td>\n",
       "      <td>1.0</td>\n",
       "      <td>4</td>\n",
       "      <td>773</td>\n",
       "      <td>K29</td>\n",
       "      <td>K297</td>\n",
       "      <td>Gastritis, unspecified</td>\n",
       "      <td>98</td>\n",
       "      <td>9998</td>\n",
       "      <td>98</td>\n",
       "      <td>98</td>\n",
       "      <td>98</td>\n",
       "      <td>98</td>\n",
       "      <td>1</td>\n",
       "      <td>Belum_Sehat</td>\n",
       "    </tr>\n",
       "    <tr>\n",
       "      <th>2</th>\n",
       "      <td>224470578.0</td>\n",
       "      <td>227368233</td>\n",
       "      <td>1.051830</td>\n",
       "      <td>467490619P000001</td>\n",
       "      <td>2019-06-01</td>\n",
       "      <td>2019-06-01</td>\n",
       "      <td>35</td>\n",
       "      <td>3516</td>\n",
       "      <td>9</td>\n",
       "      <td>2</td>\n",
       "      <td>1</td>\n",
       "      <td>1</td>\n",
       "      <td>3.0</td>\n",
       "      <td>4</td>\n",
       "      <td>1757</td>\n",
       "      <td>Z30</td>\n",
       "      <td>Z309</td>\n",
       "      <td>Contraceptive management, unspecified</td>\n",
       "      <td>98</td>\n",
       "      <td>9998</td>\n",
       "      <td>98</td>\n",
       "      <td>98</td>\n",
       "      <td>98</td>\n",
       "      <td>98</td>\n",
       "      <td>1</td>\n",
       "      <td>Belum_Sehat</td>\n",
       "    </tr>\n",
       "    <tr>\n",
       "      <th>3</th>\n",
       "      <td>63871289.0</td>\n",
       "      <td>62313678</td>\n",
       "      <td>364.741455</td>\n",
       "      <td>254321219Y002368</td>\n",
       "      <td>2019-12-21</td>\n",
       "      <td>2019-12-21</td>\n",
       "      <td>34</td>\n",
       "      <td>3402</td>\n",
       "      <td>3</td>\n",
       "      <td>1</td>\n",
       "      <td>4</td>\n",
       "      <td>1</td>\n",
       "      <td>1.0</td>\n",
       "      <td>5</td>\n",
       "      <td>621</td>\n",
       "      <td>I10</td>\n",
       "      <td>I10</td>\n",
       "      <td>Essential (primary) hypertension</td>\n",
       "      <td>98</td>\n",
       "      <td>9998</td>\n",
       "      <td>98</td>\n",
       "      <td>98</td>\n",
       "      <td>98</td>\n",
       "      <td>98</td>\n",
       "      <td>1</td>\n",
       "      <td>Belum_Sehat</td>\n",
       "    </tr>\n",
       "    <tr>\n",
       "      <th>4</th>\n",
       "      <td>29915626.0</td>\n",
       "      <td>113446188</td>\n",
       "      <td>1.050523</td>\n",
       "      <td>88681119P000020</td>\n",
       "      <td>2019-11-04</td>\n",
       "      <td>2019-11-04</td>\n",
       "      <td>35</td>\n",
       "      <td>3509</td>\n",
       "      <td>3</td>\n",
       "      <td>1</td>\n",
       "      <td>4</td>\n",
       "      <td>1</td>\n",
       "      <td>1.0</td>\n",
       "      <td>1</td>\n",
       "      <td>622</td>\n",
       "      <td>I11</td>\n",
       "      <td>I110</td>\n",
       "      <td>Hypertensive heart disease with (congestive) h...</td>\n",
       "      <td>98</td>\n",
       "      <td>9998</td>\n",
       "      <td>98</td>\n",
       "      <td>98</td>\n",
       "      <td>98</td>\n",
       "      <td>98</td>\n",
       "      <td>1</td>\n",
       "      <td>Belum_Sehat</td>\n",
       "    </tr>\n",
       "  </tbody>\n",
       "</table>\n",
       "</div>"
      ],
      "text/plain": [
       "        PSTV01     PSTV02      PSTV15             FKP02       FKP03  \\\n",
       "0  157978748.0   50765420   20.064983         958073632  2019-08-01   \n",
       "1   95085112.0   26931775    2.626307  449590620P000054  2020-06-17   \n",
       "2  224470578.0  227368233    1.051830  467490619P000001  2019-06-01   \n",
       "3   63871289.0   62313678  364.741455  254321219Y002368  2019-12-21   \n",
       "4   29915626.0  113446188    1.050523   88681119P000020  2019-11-04   \n",
       "\n",
       "        FKP04  FKP05  FKP06  FKP07  FKP08  FKP09  FKP10  FKP11  FKP12  FKP14  \\\n",
       "0  2019-08-01     61   6108      3      1      4      1   12.0      2   9999   \n",
       "1  2020-06-17     51   5171      9      3      2      1    1.0      4    773   \n",
       "2  2019-06-01     35   3516      9      2      1      1    3.0      4   1757   \n",
       "3  2019-12-21     34   3402      3      1      4      1    1.0      5    621   \n",
       "4  2019-11-04     35   3509      3      1      4      1    1.0      1    622   \n",
       "\n",
       "  FKP14A FKP15                                             FKP15A  FKP16  \\\n",
       "0    NaN  9999                                               9999     98   \n",
       "1    K29  K297                             Gastritis, unspecified     98   \n",
       "2    Z30  Z309              Contraceptive management, unspecified     98   \n",
       "3    I10   I10                   Essential (primary) hypertension     98   \n",
       "4    I11  I110  Hypertensive heart disease with (congestive) h...     98   \n",
       "\n",
       "   FKP17  FKP18  FKP19  FKP20  FKP21  FKP22   FKP13Class  \n",
       "0   9998     98     98     98     98      2        Sehat  \n",
       "1   9998     98     98     98     98      1  Belum_Sehat  \n",
       "2   9998     98     98     98     98      1  Belum_Sehat  \n",
       "3   9998     98     98     98     98      1  Belum_Sehat  \n",
       "4   9998     98     98     98     98      1  Belum_Sehat  "
      ]
     },
     "execution_count": 3,
     "metadata": {},
     "output_type": "execute_result"
    }
   ],
   "source": [
    "ori_data.head()"
   ]
  },
  {
   "cell_type": "code",
   "execution_count": 4,
   "metadata": {},
   "outputs": [
    {
     "data": {
      "text/plain": [
       "PSTV01              0\n",
       "PSTV02              0\n",
       "PSTV15              0\n",
       "FKP02               0\n",
       "FKP03               0\n",
       "FKP04               0\n",
       "FKP05               0\n",
       "FKP06               0\n",
       "FKP07               0\n",
       "FKP08               0\n",
       "FKP09               0\n",
       "FKP10               0\n",
       "FKP11               1\n",
       "FKP12               0\n",
       "FKP14               0\n",
       "FKP14A        1380241\n",
       "FKP15               0\n",
       "FKP15A              0\n",
       "FKP16               0\n",
       "FKP17               0\n",
       "FKP18               0\n",
       "FKP19               0\n",
       "FKP20               0\n",
       "FKP21               0\n",
       "FKP22               0\n",
       "FKP13Class          0\n",
       "dtype: int64"
      ]
     },
     "execution_count": 4,
     "metadata": {},
     "output_type": "execute_result"
    }
   ],
   "source": [
    "train_data.isna().sum()"
   ]
  },
  {
   "cell_type": "code",
   "execution_count": 5,
   "metadata": {},
   "outputs": [
    {
     "data": {
      "text/plain": [
       "PSTV01         0\n",
       "PSTV02         0\n",
       "PSTV15         0\n",
       "FKP02          0\n",
       "FKP03          0\n",
       "FKP04          0\n",
       "FKP05          0\n",
       "FKP06          0\n",
       "FKP07          0\n",
       "FKP08          0\n",
       "FKP09          0\n",
       "FKP10          0\n",
       "FKP11          0\n",
       "FKP12          0\n",
       "FKP14          0\n",
       "FKP14A    345912\n",
       "FKP15          0\n",
       "FKP15A         0\n",
       "FKP16          0\n",
       "FKP17          0\n",
       "FKP18          0\n",
       "FKP19          0\n",
       "FKP20          0\n",
       "FKP21          0\n",
       "FKP22          0\n",
       "dtype: int64"
      ]
     },
     "execution_count": 5,
     "metadata": {},
     "output_type": "execute_result"
    }
   ],
   "source": [
    "test_data.isna().sum()"
   ]
  },
  {
   "cell_type": "markdown",
   "metadata": {},
   "source": [
    "## 2. Data Cleaning"
   ]
  },
  {
   "cell_type": "code",
   "execution_count": 6,
   "metadata": {},
   "outputs": [],
   "source": [
    "def clean(df, option=0):\n",
    "    if option:\n",
    "        df[\"label\"] = df.FKP13Class.map(dict(Sehat=1, Belum_Sehat=0))\n",
    "\n",
    "    df = df.drop([\"PSTV01\", \"PSTV02\", \"FKP02\"], axis=1)\n",
    "    return df"
   ]
  },
  {
   "cell_type": "code",
   "execution_count": 7,
   "metadata": {},
   "outputs": [],
   "source": [
    "train_clean_data = clean(train_data, 1)\n",
    "test_clean_data = clean(test_data)\n",
    "all_clean_data = pd.concat([train_clean_data, test_clean_data])"
   ]
  },
  {
   "cell_type": "code",
   "execution_count": 8,
   "metadata": {},
   "outputs": [
    {
     "data": {
      "text/html": [
       "<div>\n",
       "<style scoped>\n",
       "    .dataframe tbody tr th:only-of-type {\n",
       "        vertical-align: middle;\n",
       "    }\n",
       "\n",
       "    .dataframe tbody tr th {\n",
       "        vertical-align: top;\n",
       "    }\n",
       "\n",
       "    .dataframe thead th {\n",
       "        text-align: right;\n",
       "    }\n",
       "</style>\n",
       "<table border=\"1\" class=\"dataframe\">\n",
       "  <thead>\n",
       "    <tr style=\"text-align: right;\">\n",
       "      <th></th>\n",
       "      <th>PSTV15</th>\n",
       "      <th>FKP03</th>\n",
       "      <th>FKP04</th>\n",
       "      <th>FKP05</th>\n",
       "      <th>FKP06</th>\n",
       "      <th>FKP07</th>\n",
       "      <th>FKP08</th>\n",
       "      <th>FKP09</th>\n",
       "      <th>FKP10</th>\n",
       "      <th>FKP11</th>\n",
       "      <th>FKP12</th>\n",
       "      <th>FKP14</th>\n",
       "      <th>FKP14A</th>\n",
       "      <th>FKP15</th>\n",
       "      <th>FKP15A</th>\n",
       "      <th>FKP16</th>\n",
       "      <th>FKP17</th>\n",
       "      <th>FKP18</th>\n",
       "      <th>FKP19</th>\n",
       "      <th>FKP20</th>\n",
       "      <th>FKP21</th>\n",
       "      <th>FKP22</th>\n",
       "      <th>FKP13Class</th>\n",
       "      <th>label</th>\n",
       "    </tr>\n",
       "  </thead>\n",
       "  <tbody>\n",
       "    <tr>\n",
       "      <th>0</th>\n",
       "      <td>20.064983</td>\n",
       "      <td>2019-08-01</td>\n",
       "      <td>2019-08-01</td>\n",
       "      <td>61</td>\n",
       "      <td>6108</td>\n",
       "      <td>3</td>\n",
       "      <td>1</td>\n",
       "      <td>4</td>\n",
       "      <td>1</td>\n",
       "      <td>12.0</td>\n",
       "      <td>2</td>\n",
       "      <td>9999</td>\n",
       "      <td>NaN</td>\n",
       "      <td>9999</td>\n",
       "      <td>9999</td>\n",
       "      <td>98</td>\n",
       "      <td>9998</td>\n",
       "      <td>98</td>\n",
       "      <td>98</td>\n",
       "      <td>98</td>\n",
       "      <td>98</td>\n",
       "      <td>2</td>\n",
       "      <td>Sehat</td>\n",
       "      <td>1</td>\n",
       "    </tr>\n",
       "    <tr>\n",
       "      <th>1</th>\n",
       "      <td>2.626307</td>\n",
       "      <td>2020-06-17</td>\n",
       "      <td>2020-06-17</td>\n",
       "      <td>51</td>\n",
       "      <td>5171</td>\n",
       "      <td>9</td>\n",
       "      <td>3</td>\n",
       "      <td>2</td>\n",
       "      <td>1</td>\n",
       "      <td>1.0</td>\n",
       "      <td>4</td>\n",
       "      <td>773</td>\n",
       "      <td>K29</td>\n",
       "      <td>K297</td>\n",
       "      <td>Gastritis, unspecified</td>\n",
       "      <td>98</td>\n",
       "      <td>9998</td>\n",
       "      <td>98</td>\n",
       "      <td>98</td>\n",
       "      <td>98</td>\n",
       "      <td>98</td>\n",
       "      <td>1</td>\n",
       "      <td>Belum_Sehat</td>\n",
       "      <td>0</td>\n",
       "    </tr>\n",
       "    <tr>\n",
       "      <th>2</th>\n",
       "      <td>1.051830</td>\n",
       "      <td>2019-06-01</td>\n",
       "      <td>2019-06-01</td>\n",
       "      <td>35</td>\n",
       "      <td>3516</td>\n",
       "      <td>9</td>\n",
       "      <td>2</td>\n",
       "      <td>1</td>\n",
       "      <td>1</td>\n",
       "      <td>3.0</td>\n",
       "      <td>4</td>\n",
       "      <td>1757</td>\n",
       "      <td>Z30</td>\n",
       "      <td>Z309</td>\n",
       "      <td>Contraceptive management, unspecified</td>\n",
       "      <td>98</td>\n",
       "      <td>9998</td>\n",
       "      <td>98</td>\n",
       "      <td>98</td>\n",
       "      <td>98</td>\n",
       "      <td>98</td>\n",
       "      <td>1</td>\n",
       "      <td>Belum_Sehat</td>\n",
       "      <td>0</td>\n",
       "    </tr>\n",
       "    <tr>\n",
       "      <th>3</th>\n",
       "      <td>364.741455</td>\n",
       "      <td>2019-12-21</td>\n",
       "      <td>2019-12-21</td>\n",
       "      <td>34</td>\n",
       "      <td>3402</td>\n",
       "      <td>3</td>\n",
       "      <td>1</td>\n",
       "      <td>4</td>\n",
       "      <td>1</td>\n",
       "      <td>1.0</td>\n",
       "      <td>5</td>\n",
       "      <td>621</td>\n",
       "      <td>I10</td>\n",
       "      <td>I10</td>\n",
       "      <td>Essential (primary) hypertension</td>\n",
       "      <td>98</td>\n",
       "      <td>9998</td>\n",
       "      <td>98</td>\n",
       "      <td>98</td>\n",
       "      <td>98</td>\n",
       "      <td>98</td>\n",
       "      <td>1</td>\n",
       "      <td>Belum_Sehat</td>\n",
       "      <td>0</td>\n",
       "    </tr>\n",
       "    <tr>\n",
       "      <th>4</th>\n",
       "      <td>1.050523</td>\n",
       "      <td>2019-11-04</td>\n",
       "      <td>2019-11-04</td>\n",
       "      <td>35</td>\n",
       "      <td>3509</td>\n",
       "      <td>3</td>\n",
       "      <td>1</td>\n",
       "      <td>4</td>\n",
       "      <td>1</td>\n",
       "      <td>1.0</td>\n",
       "      <td>1</td>\n",
       "      <td>622</td>\n",
       "      <td>I11</td>\n",
       "      <td>I110</td>\n",
       "      <td>Hypertensive heart disease with (congestive) h...</td>\n",
       "      <td>98</td>\n",
       "      <td>9998</td>\n",
       "      <td>98</td>\n",
       "      <td>98</td>\n",
       "      <td>98</td>\n",
       "      <td>98</td>\n",
       "      <td>1</td>\n",
       "      <td>Belum_Sehat</td>\n",
       "      <td>0</td>\n",
       "    </tr>\n",
       "  </tbody>\n",
       "</table>\n",
       "</div>"
      ],
      "text/plain": [
       "       PSTV15       FKP03       FKP04  FKP05  FKP06  FKP07  FKP08  FKP09  \\\n",
       "0   20.064983  2019-08-01  2019-08-01     61   6108      3      1      4   \n",
       "1    2.626307  2020-06-17  2020-06-17     51   5171      9      3      2   \n",
       "2    1.051830  2019-06-01  2019-06-01     35   3516      9      2      1   \n",
       "3  364.741455  2019-12-21  2019-12-21     34   3402      3      1      4   \n",
       "4    1.050523  2019-11-04  2019-11-04     35   3509      3      1      4   \n",
       "\n",
       "   FKP10  FKP11  FKP12  FKP14 FKP14A FKP15  \\\n",
       "0      1   12.0      2   9999    NaN  9999   \n",
       "1      1    1.0      4    773    K29  K297   \n",
       "2      1    3.0      4   1757    Z30  Z309   \n",
       "3      1    1.0      5    621    I10   I10   \n",
       "4      1    1.0      1    622    I11  I110   \n",
       "\n",
       "                                              FKP15A  FKP16  FKP17  FKP18  \\\n",
       "0                                               9999     98   9998     98   \n",
       "1                             Gastritis, unspecified     98   9998     98   \n",
       "2              Contraceptive management, unspecified     98   9998     98   \n",
       "3                   Essential (primary) hypertension     98   9998     98   \n",
       "4  Hypertensive heart disease with (congestive) h...     98   9998     98   \n",
       "\n",
       "   FKP19  FKP20  FKP21  FKP22   FKP13Class  label  \n",
       "0     98     98     98      2        Sehat      1  \n",
       "1     98     98     98      1  Belum_Sehat      0  \n",
       "2     98     98     98      1  Belum_Sehat      0  \n",
       "3     98     98     98      1  Belum_Sehat      0  \n",
       "4     98     98     98      1  Belum_Sehat      0  "
      ]
     },
     "execution_count": 8,
     "metadata": {},
     "output_type": "execute_result"
    }
   ],
   "source": [
    "train_clean_data.head()"
   ]
  },
  {
   "cell_type": "markdown",
   "metadata": {},
   "source": [
    "## 3. Exploratory Data Analysis"
   ]
  },
  {
   "cell_type": "code",
   "execution_count": 9,
   "metadata": {},
   "outputs": [
    {
     "name": "stdout",
     "output_type": "stream",
     "text": [
      "label 0 : 64.94%\n",
      "label 1 : 35.06%\n"
     ]
    }
   ],
   "source": [
    "label_1 = train_data.label.sum() / train_data.shape[0]\n",
    "label_0 = 1 - label_1\n",
    "\n",
    "print(f\"label 0 : {label_0*100:.2f}%\")\n",
    "print(f\"label 1 : {label_1*100:.2f}%\")"
   ]
  },
  {
   "cell_type": "code",
   "execution_count": 10,
   "metadata": {},
   "outputs": [
    {
     "data": {
      "text/plain": [
       "<AxesSubplot:>"
      ]
     },
     "execution_count": 10,
     "metadata": {},
     "output_type": "execute_result"
    },
    {
     "data": {
      "image/png": "[encoded data removed]",
      "text/plain": [
       "<Figure size 1008x720 with 2 Axes>"
      ]
     },
     "metadata": {
      "needs_background": "light"
     },
     "output_type": "display_data"
    }
   ],
   "source": [
    "f,ax = plt.subplots(figsize=(14, 10))\n",
    "sns.heatmap(train_clean_data.corr(), annot=True, linewidths=.5, fmt=\".3f\", ax=ax)"
   ]
  },
  {
   "cell_type": "code",
   "execution_count": 11,
   "metadata": {},
   "outputs": [],
   "source": [
    "def hist_plot(df, col, target=\"label\"):\n",
    "    f, (ax1, ax2) = plt.subplots(2, 1, sharex=True, figsize=(8, 6))\n",
    "    bins = 50\n",
    "\n",
    "    ax1.hist(df[col][df[target] == 1], bins=bins)\n",
    "    ax1.set_title(\"Sehat\")\n",
    "\n",
    "    ax2.hist(df[col][df[target] == 0], bins=bins)\n",
    "    ax2.set_title(\"Belum Sehat\")\n",
    "    plt.show()"
   ]
  },
  {
   "cell_type": "code",
   "execution_count": 12,
   "metadata": {},
   "outputs": [
    {
     "data": {
      "image/png": "[encoded data removed]",
      "text/plain": [
       "<Figure size 576x432 with 2 Axes>"
      ]
     },
     "metadata": {
      "needs_background": "light"
     },
     "output_type": "display_data"
    }
   ],
   "source": [
    "hist_plot(train_clean_data, \"FKP11\")"
   ]
  },
  {
   "cell_type": "code",
   "execution_count": 13,
   "metadata": {},
   "outputs": [
    {
     "data": {
      "image/png": "[encoded data removed]",
      "text/plain": [
       "<Figure size 576x432 with 2 Axes>"
      ]
     },
     "metadata": {
      "needs_background": "light"
     },
     "output_type": "display_data"
    }
   ],
   "source": [
    "hist_plot(train_clean_data, \"FKP14\")"
   ]
  },
  {
   "cell_type": "code",
   "execution_count": 14,
   "metadata": {},
   "outputs": [
    {
     "data": {
      "image/png": "[encoded data removed]",
      "text/plain": [
       "<Figure size 576x432 with 2 Axes>"
      ]
     },
     "metadata": {
      "needs_background": "light"
     },
     "output_type": "display_data"
    }
   ],
   "source": [
    "hist_plot(train_clean_data, \"FKP22\")"
   ]
  },
  {
   "cell_type": "markdown",
   "metadata": {},
   "source": [
    "## 4. Feature Engineering and Preprocessing"
   ]
  },
  {
   "cell_type": "code",
   "execution_count": 15,
   "metadata": {},
   "outputs": [],
   "source": [
    "def engineering(df):\n",
    "    df[\"FKP03\"] = pd.to_datetime(df[\"FKP03\"])\n",
    "    df[\"FKP04\"] = pd.to_datetime(df[\"FKP04\"])\n",
    "    df[\"lamainap\"] = (df[\"FKP04\"]-df[\"FKP03\"]).dt.days\n",
    "    df[\"tahun\"] = df[\"FKP03\"].dt.year\n",
    "    df[\"kuarter\"] = df[\"FKP03\"].dt.quarter\n",
    "    df[\"bulan\"] = df[\"FKP03\"].dt.month\n",
    "    df[\"harike\"] = df[\"FKP03\"].dt.dayofweek\n",
    "\n",
    "    df[\"diag_icd_0\"] = df[\"FKP14A\"].str[0]\n",
    "    df[\"diag_icd_1\"] = df[\"FKP14A\"].str[1:]\n",
    "    df[\"diag_icd_2\"] = df[\"FKP15\"].apply(lambda x: str(x)[-1] if str(x) != \"9999\" else str(x))\n",
    "\n",
    "    df[\"diag_icd_0\"].fillna(\"9999\", inplace=True)\n",
    "    df[\"diag_icd_1\"].fillna(\"9999\", inplace=True)\n",
    "    df[\"FKP11\"].fillna(df[\"FKP11\"].mode()[0], inplace=True)\n",
    "\n",
    "    df = df.drop([\"FKP03\", \"FKP04\",\"FKP14A\", \"FKP15\", \"FKP05\", \"FKP06\", \"FKP15A\"], axis=1)\n",
    "\n",
    "    return df\n",
    "\n",
    "def label_encode(df):\n",
    "    obj_cols = list(df.select_dtypes(include=\"object\").columns)\n",
    "    le = LabelEncoder()\n",
    "    for col in obj_cols:\n",
    "        df[col] = df[col].astype(str)\n",
    "        df[col] = le.fit_transform(df[col])\n",
    "    \n",
    "    return df\n",
    "\n",
    "def split_data(df, train_data):\n",
    "    return df.iloc[:train_data.shape[0],:], df.iloc[train_data.shape[0]:,:]"
   ]
  },
  {
   "cell_type": "code",
   "execution_count": 16,
   "metadata": {},
   "outputs": [
    {
     "name": "stdout",
     "output_type": "stream",
     "text": [
      "CPU times: total: 16.6 s\n",
      "Wall time: 16.7 s\n"
     ]
    }
   ],
   "source": [
    "%%time\n",
    "\n",
    "all_data = engineering(all_clean_data)\n",
    "all_encode_data = label_encode(all_data)"
   ]
  },
  {
   "cell_type": "code",
   "execution_count": 17,
   "metadata": {},
   "outputs": [
    {
     "data": {
      "text/html": [
       "<div>\n",
       "<style scoped>\n",
       "    .dataframe tbody tr th:only-of-type {\n",
       "        vertical-align: middle;\n",
       "    }\n",
       "\n",
       "    .dataframe tbody tr th {\n",
       "        vertical-align: top;\n",
       "    }\n",
       "\n",
       "    .dataframe thead th {\n",
       "        text-align: right;\n",
       "    }\n",
       "</style>\n",
       "<table border=\"1\" class=\"dataframe\">\n",
       "  <thead>\n",
       "    <tr style=\"text-align: right;\">\n",
       "      <th></th>\n",
       "      <th>PSTV15</th>\n",
       "      <th>FKP07</th>\n",
       "      <th>FKP08</th>\n",
       "      <th>FKP09</th>\n",
       "      <th>FKP10</th>\n",
       "      <th>FKP11</th>\n",
       "      <th>FKP12</th>\n",
       "      <th>FKP14</th>\n",
       "      <th>FKP16</th>\n",
       "      <th>FKP17</th>\n",
       "      <th>FKP18</th>\n",
       "      <th>FKP19</th>\n",
       "      <th>FKP20</th>\n",
       "      <th>FKP21</th>\n",
       "      <th>FKP22</th>\n",
       "      <th>FKP13Class</th>\n",
       "      <th>label</th>\n",
       "      <th>lamainap</th>\n",
       "      <th>tahun</th>\n",
       "      <th>kuarter</th>\n",
       "      <th>bulan</th>\n",
       "      <th>harike</th>\n",
       "      <th>diag_icd_0</th>\n",
       "      <th>diag_icd_1</th>\n",
       "      <th>diag_icd_2</th>\n",
       "    </tr>\n",
       "  </thead>\n",
       "  <tbody>\n",
       "    <tr>\n",
       "      <th>0</th>\n",
       "      <td>20.064983</td>\n",
       "      <td>3</td>\n",
       "      <td>1</td>\n",
       "      <td>4</td>\n",
       "      <td>1</td>\n",
       "      <td>12.0</td>\n",
       "      <td>2</td>\n",
       "      <td>9999</td>\n",
       "      <td>98</td>\n",
       "      <td>9998</td>\n",
       "      <td>98</td>\n",
       "      <td>98</td>\n",
       "      <td>98</td>\n",
       "      <td>98</td>\n",
       "      <td>2</td>\n",
       "      <td>1</td>\n",
       "      <td>1.0</td>\n",
       "      <td>0</td>\n",
       "      <td>2019</td>\n",
       "      <td>3</td>\n",
       "      <td>8</td>\n",
       "      <td>3</td>\n",
       "      <td>0</td>\n",
       "      <td>100</td>\n",
       "      <td>10</td>\n",
       "    </tr>\n",
       "    <tr>\n",
       "      <th>1</th>\n",
       "      <td>2.626307</td>\n",
       "      <td>9</td>\n",
       "      <td>3</td>\n",
       "      <td>2</td>\n",
       "      <td>1</td>\n",
       "      <td>1.0</td>\n",
       "      <td>4</td>\n",
       "      <td>773</td>\n",
       "      <td>98</td>\n",
       "      <td>9998</td>\n",
       "      <td>98</td>\n",
       "      <td>98</td>\n",
       "      <td>98</td>\n",
       "      <td>98</td>\n",
       "      <td>1</td>\n",
       "      <td>0</td>\n",
       "      <td>0.0</td>\n",
       "      <td>0</td>\n",
       "      <td>2020</td>\n",
       "      <td>2</td>\n",
       "      <td>6</td>\n",
       "      <td>2</td>\n",
       "      <td>11</td>\n",
       "      <td>29</td>\n",
       "      <td>7</td>\n",
       "    </tr>\n",
       "    <tr>\n",
       "      <th>2</th>\n",
       "      <td>1.051830</td>\n",
       "      <td>9</td>\n",
       "      <td>2</td>\n",
       "      <td>1</td>\n",
       "      <td>1</td>\n",
       "      <td>3.0</td>\n",
       "      <td>4</td>\n",
       "      <td>1757</td>\n",
       "      <td>98</td>\n",
       "      <td>9998</td>\n",
       "      <td>98</td>\n",
       "      <td>98</td>\n",
       "      <td>98</td>\n",
       "      <td>98</td>\n",
       "      <td>1</td>\n",
       "      <td>0</td>\n",
       "      <td>0.0</td>\n",
       "      <td>0</td>\n",
       "      <td>2019</td>\n",
       "      <td>2</td>\n",
       "      <td>6</td>\n",
       "      <td>5</td>\n",
       "      <td>26</td>\n",
       "      <td>30</td>\n",
       "      <td>9</td>\n",
       "    </tr>\n",
       "    <tr>\n",
       "      <th>3</th>\n",
       "      <td>364.741455</td>\n",
       "      <td>3</td>\n",
       "      <td>1</td>\n",
       "      <td>4</td>\n",
       "      <td>1</td>\n",
       "      <td>1.0</td>\n",
       "      <td>5</td>\n",
       "      <td>621</td>\n",
       "      <td>98</td>\n",
       "      <td>9998</td>\n",
       "      <td>98</td>\n",
       "      <td>98</td>\n",
       "      <td>98</td>\n",
       "      <td>98</td>\n",
       "      <td>1</td>\n",
       "      <td>0</td>\n",
       "      <td>0.0</td>\n",
       "      <td>0</td>\n",
       "      <td>2019</td>\n",
       "      <td>4</td>\n",
       "      <td>12</td>\n",
       "      <td>5</td>\n",
       "      <td>9</td>\n",
       "      <td>10</td>\n",
       "      <td>0</td>\n",
       "    </tr>\n",
       "    <tr>\n",
       "      <th>4</th>\n",
       "      <td>1.050523</td>\n",
       "      <td>3</td>\n",
       "      <td>1</td>\n",
       "      <td>4</td>\n",
       "      <td>1</td>\n",
       "      <td>1.0</td>\n",
       "      <td>1</td>\n",
       "      <td>622</td>\n",
       "      <td>98</td>\n",
       "      <td>9998</td>\n",
       "      <td>98</td>\n",
       "      <td>98</td>\n",
       "      <td>98</td>\n",
       "      <td>98</td>\n",
       "      <td>1</td>\n",
       "      <td>0</td>\n",
       "      <td>0.0</td>\n",
       "      <td>0</td>\n",
       "      <td>2019</td>\n",
       "      <td>4</td>\n",
       "      <td>11</td>\n",
       "      <td>0</td>\n",
       "      <td>9</td>\n",
       "      <td>11</td>\n",
       "      <td>0</td>\n",
       "    </tr>\n",
       "  </tbody>\n",
       "</table>\n",
       "</div>"
      ],
      "text/plain": [
       "       PSTV15  FKP07  FKP08  FKP09  FKP10  FKP11  FKP12  FKP14  FKP16  FKP17  \\\n",
       "0   20.064983      3      1      4      1   12.0      2   9999     98   9998   \n",
       "1    2.626307      9      3      2      1    1.0      4    773     98   9998   \n",
       "2    1.051830      9      2      1      1    3.0      4   1757     98   9998   \n",
       "3  364.741455      3      1      4      1    1.0      5    621     98   9998   \n",
       "4    1.050523      3      1      4      1    1.0      1    622     98   9998   \n",
       "\n",
       "   FKP18  FKP19  FKP20  FKP21  FKP22  FKP13Class  label  lamainap  tahun  \\\n",
       "0     98     98     98     98      2           1    1.0         0   2019   \n",
       "1     98     98     98     98      1           0    0.0         0   2020   \n",
       "2     98     98     98     98      1           0    0.0         0   2019   \n",
       "3     98     98     98     98      1           0    0.0         0   2019   \n",
       "4     98     98     98     98      1           0    0.0         0   2019   \n",
       "\n",
       "   kuarter  bulan  harike  diag_icd_0  diag_icd_1  diag_icd_2  \n",
       "0        3      8       3           0         100          10  \n",
       "1        2      6       2          11          29           7  \n",
       "2        2      6       5          26          30           9  \n",
       "3        4     12       5           9          10           0  \n",
       "4        4     11       0           9          11           0  "
      ]
     },
     "execution_count": 17,
     "metadata": {},
     "output_type": "execute_result"
    }
   ],
   "source": [
    "train_data, test_data = split_data(all_encode_data, train_data)\n",
    "test_data = test_data.drop([\"FKP13Class\", \"label\"], axis=1)\n",
    "\n",
    "train_data.head()"
   ]
  },
  {
   "cell_type": "markdown",
   "metadata": {},
   "source": [
    "## 5. Modelling"
   ]
  },
  {
   "cell_type": "code",
   "execution_count": 18,
   "metadata": {},
   "outputs": [],
   "source": [
    "def get_stratified_data(data, idx=0, n_splits=5):\n",
    "    skf = StratifiedKFold(n_splits=n_splits)\n",
    "    target = data.loc[:, \"label\"]\n",
    "    train_idx, val_idx = list(skf.split(data, target))[idx]\n",
    "\n",
    "    X_train = data.loc[train_idx,:].drop([\"FKP13Class\", \"label\"], axis=1)\n",
    "    X_val = data.loc[val_idx,:].drop([\"FKP13Class\", \"label\"], axis=1)\n",
    "    y_train = data.loc[train_idx,:].label\n",
    "    y_val = data.loc[val_idx,:].label\n",
    "\n",
    "    return X_train, X_val, y_train, y_val\n",
    "\n",
    "def evaluate(actual, predicted, show=2):\n",
    "    cf_matrix = confusion_matrix(actual, predicted)\n",
    "    tn, fp, fn, tp = cf_matrix.ravel()\n",
    "    recall = tp / (fn+tp)\n",
    "    precision = tp / (fp+tp)\n",
    "    scoref1 = f1_score(actual, predicted)\n",
    "    \n",
    "    if show:\n",
    "        if show > 1:\n",
    "            print(f\"recall: {recall*100:.4f}%\")\n",
    "            print(f\"precision: {precision*100:.4f}%\")\n",
    "        if show > 0:\n",
    "            print(f\"f1 score: {scoref1*100:.4f}%\\n\")\n",
    "    else:\n",
    "        return recall, precision, scoref1\n",
    "\n",
    "def train_model(estimators, df):\n",
    "    models_trained = []\n",
    "    X_train, X_val, y_train, y_val = get_stratified_data(df)\n",
    "\n",
    "    for num, model in tqdm_notebook(enumerate(estimators)):\n",
    "        start = time()\n",
    "\n",
    "        base_model = model.fit(X_train, y_train)\n",
    "        pred_val = base_model.predict(X_val)\n",
    "        print(f\"{num + 1}. {str(model).split('(')[0]} - {time() - start}\")\n",
    "        evaluate(y_val, pred_val)\n",
    "\n",
    "        models_trained.append(model)\n",
    "    \n",
    "    return models_trained"
   ]
  },
  {
   "cell_type": "code",
   "execution_count": 19,
   "metadata": {},
   "outputs": [
    {
     "data": {
      "application/vnd.jupyter.widget-view+json": {
       "model_id": "56930e4627d44988b0fc7291b6640bb2",
       "version_major": 2,
       "version_minor": 0
      },
      "text/plain": [
       "0it [00:00, ?it/s]"
      ]
     },
     "metadata": {},
     "output_type": "display_data"
    },
    {
     "name": "stdout",
     "output_type": "stream",
     "text": [
      "1. RandomForestClassifier - 414.40823340415955\n",
      "recall: 99.9174%\n",
      "precision: 99.8781%\n",
      "f1 score: 99.8977%\n",
      "\n",
      "2. LGBMClassifier - 20.946927070617676\n",
      "recall: 99.9279%\n",
      "precision: 99.8602%\n",
      "f1 score: 99.8941%\n",
      "\n",
      "3. XGBClassifier - 297.6614034175873\n",
      "recall: 99.9315%\n",
      "precision: 99.8714%\n",
      "f1 score: 99.9014%\n",
      "\n",
      "CPU times: total: 26min 54s\n",
      "Wall time: 12min 19s\n"
     ]
    },
    {
     "data": {
      "text/plain": [
       "[RandomForestClassifier(random_state=42),\n",
       " LGBMClassifier(),\n",
       " XGBClassifier(base_score=0.5, booster='gbtree', callbacks=None,\n",
       "               colsample_bylevel=1, colsample_bynode=1, colsample_bytree=1,\n",
       "               early_stopping_rounds=None, enable_categorical=False,\n",
       "               eval_metric=None, gamma=0, gpu_id=-1, grow_policy='depthwise',\n",
       "               importance_type=None, interaction_constraints='',\n",
       "               learning_rate=0.300000012, max_bin=256, max_cat_to_onehot=4,\n",
       "               max_delta_step=0, max_depth=6, max_leaves=0, min_child_weight=1,\n",
       "               missing=nan, monotone_constraints='()', n_estimators=100,\n",
       "               n_jobs=0, num_parallel_tree=1, predictor='auto', random_state=0,\n",
       "               reg_alpha=0, reg_lambda=1, ...)]"
      ]
     },
     "execution_count": 19,
     "metadata": {},
     "output_type": "execute_result"
    }
   ],
   "source": [
    "%%time\n",
    "\n",
    "estimators = [RandomForestClassifier(random_state=42), \n",
    "              LGBMClassifier(), XGBClassifier()]\n",
    "\n",
    "train_model(estimators=estimators, df=train_data)"
   ]
  },
  {
   "cell_type": "code",
   "execution_count": 20,
   "metadata": {},
   "outputs": [
    {
     "data": {
      "application/vnd.jupyter.widget-view+json": {
       "model_id": "50bfd0b319c14273a31c8fb6d19f20f9",
       "version_major": 2,
       "version_minor": 0
      },
      "text/plain": [
       "0it [00:00, ?it/s]"
      ]
     },
     "metadata": {},
     "output_type": "display_data"
    },
    {
     "name": "stdout",
     "output_type": "stream",
     "text": [
      "1. RandomForestClassifier - 305.23833107948303\n",
      "recall: 99.9265%\n",
      "precision: 99.8679%\n",
      "f1 score: 99.8972%\n",
      "\n",
      "2. LGBMClassifier - 177.650737285614\n",
      "recall: 99.9350%\n",
      "precision: 99.8900%\n",
      "f1 score: 99.9125%\n",
      "\n",
      "[01:41:09] WARNING: C:/Users/administrator/workspace/xgboost-win64_release_1.6.0/src/learner.cc:627: \n",
      "Parameters: { \"num_leaves\" } might not be used.\n",
      "\n",
      "  This could be a false alarm, with some parameters getting used by language bindings but\n",
      "  then being mistakenly passed down to XGBoost core, or some parameter actually being used\n",
      "  but getting flagged wrongly here. Please open an issue if you find any such cases.\n",
      "\n",
      "\n",
      "3. XGBClassifier - 5783.902545928955\n",
      "recall: 99.9360%\n",
      "precision: 99.8960%\n",
      "f1 score: 99.9160%\n",
      "\n"
     ]
    },
    {
     "data": {
      "text/plain": [
       "[RandomForestClassifier(max_features=10, min_samples_leaf=5, n_jobs=-1,\n",
       "                        oob_score=True, random_state=42),\n",
       " LGBMClassifier(learning_rate=0.04, max_depth=15, n_estimators=800,\n",
       "                num_leaves=256),\n",
       " XGBClassifier(base_score=0.5, booster='gbtree', callbacks=None,\n",
       "               colsample_bylevel=1, colsample_bynode=1, colsample_bytree=1,\n",
       "               early_stopping_rounds=None, enable_categorical=False,\n",
       "               eval_metric=None, gamma=0, gpu_id=-1, grow_policy='depthwise',\n",
       "               importance_type=None, interaction_constraints='',\n",
       "               learning_rate=0.04, max_bin=256, max_cat_to_onehot=4,\n",
       "               max_delta_step=0, max_depth=15, max_leaves=0, min_child_weight=1,\n",
       "               missing=nan, monotone_constraints='()', n_estimators=800,\n",
       "               n_jobs=0, num_leaves=256, num_parallel_tree=1, predictor='auto',\n",
       "               random_state=0, reg_alpha=0, ...)]"
      ]
     },
     "execution_count": 20,
     "metadata": {},
     "output_type": "execute_result"
    }
   ],
   "source": [
    "estimators_2 = [RandomForestClassifier(random_state=42, max_features=10, oob_score = True,n_jobs = -1, min_samples_leaf=5), \n",
    "                LGBMClassifier(learning_rate=0.04, n_estimators=800, max_depth=15, num_leaves=256),\n",
    "                XGBClassifier(learning_rate=0.04, n_estimators=800, max_depth=15, num_leaves=256)]\n",
    "\n",
    "train_model(estimators=estimators_2, df=train_data)"
   ]
  },
  {
   "cell_type": "markdown",
   "metadata": {},
   "source": [
    "## 6. Evaluating"
   ]
  },
  {
   "cell_type": "code",
   "execution_count": 21,
   "metadata": {},
   "outputs": [
    {
     "name": "stdout",
     "output_type": "stream",
     "text": [
      "[10]\ttraining's binary_logloss: 0.371713\tvalid_0's binary_logloss: 0.371748\n",
      "[20]\ttraining's binary_logloss: 0.230633\tvalid_0's binary_logloss: 0.230698\n",
      "[30]\ttraining's binary_logloss: 0.148112\tvalid_0's binary_logloss: 0.148212\n",
      "[40]\ttraining's binary_logloss: 0.0970077\tvalid_0's binary_logloss: 0.097139\n",
      "[50]\ttraining's binary_logloss: 0.0643794\tvalid_0's binary_logloss: 0.0645448\n",
      "[60]\ttraining's binary_logloss: 0.0431683\tvalid_0's binary_logloss: 0.043373\n",
      "[70]\ttraining's binary_logloss: 0.0292321\tvalid_0's binary_logloss: 0.0294705\n",
      "[80]\ttraining's binary_logloss: 0.0199997\tvalid_0's binary_logloss: 0.0202805\n",
      "[90]\ttraining's binary_logloss: 0.0138478\tvalid_0's binary_logloss: 0.0141728\n",
      "[100]\ttraining's binary_logloss: 0.00973448\tvalid_0's binary_logloss: 0.0101034\n",
      "[110]\ttraining's binary_logloss: 0.00697606\tvalid_0's binary_logloss: 0.00738678\n",
      "[120]\ttraining's binary_logloss: 0.00511187\tvalid_0's binary_logloss: 0.00556726\n",
      "[130]\ttraining's binary_logloss: 0.00384645\tvalid_0's binary_logloss: 0.00434751\n",
      "[140]\ttraining's binary_logloss: 0.00299802\tvalid_0's binary_logloss: 0.00352984\n",
      "[150]\ttraining's binary_logloss: 0.00242023\tvalid_0's binary_logloss: 0.00298539\n",
      "[160]\ttraining's binary_logloss: 0.00202662\tvalid_0's binary_logloss: 0.00261862\n",
      "[170]\ttraining's binary_logloss: 0.00175066\tvalid_0's binary_logloss: 0.00237162\n",
      "[180]\ttraining's binary_logloss: 0.00156082\tvalid_0's binary_logloss: 0.0022076\n",
      "[190]\ttraining's binary_logloss: 0.00142243\tvalid_0's binary_logloss: 0.00209051\n",
      "[200]\ttraining's binary_logloss: 0.001329\tvalid_0's binary_logloss: 0.00201318\n",
      "[210]\ttraining's binary_logloss: 0.00124717\tvalid_0's binary_logloss: 0.00195661\n",
      "[220]\ttraining's binary_logloss: 0.00117817\tvalid_0's binary_logloss: 0.00192188\n",
      "[230]\ttraining's binary_logloss: 0.0011232\tvalid_0's binary_logloss: 0.00189321\n",
      "[240]\ttraining's binary_logloss: 0.00106943\tvalid_0's binary_logloss: 0.00187168\n",
      "[250]\ttraining's binary_logloss: 0.00102657\tvalid_0's binary_logloss: 0.00186087\n",
      "[260]\ttraining's binary_logloss: 0.000981424\tvalid_0's binary_logloss: 0.0018456\n",
      "[270]\ttraining's binary_logloss: 0.000947077\tvalid_0's binary_logloss: 0.00183795\n",
      "[280]\ttraining's binary_logloss: 0.000910018\tvalid_0's binary_logloss: 0.00182922\n",
      "[290]\ttraining's binary_logloss: 0.000880369\tvalid_0's binary_logloss: 0.00182788\n",
      "[300]\ttraining's binary_logloss: 0.000853604\tvalid_0's binary_logloss: 0.00182485\n",
      "[310]\ttraining's binary_logloss: 0.000817102\tvalid_0's binary_logloss: 0.00182054\n",
      "[320]\ttraining's binary_logloss: 0.000791891\tvalid_0's binary_logloss: 0.00182271\n",
      "[330]\ttraining's binary_logloss: 0.000767221\tvalid_0's binary_logloss: 0.00182281\n",
      "[340]\ttraining's binary_logloss: 0.00074987\tvalid_0's binary_logloss: 0.00182504\n",
      "CPU times: total: 4min 20s\n",
      "Wall time: 1min 15s\n"
     ]
    },
    {
     "data": {
      "text/html": [
       "<style>#sk-container-id-1 {color: black;background-color: white;}#sk-container-id-1 pre{padding: 0;}#sk-container-id-1 div.sk-toggleable {background-color: white;}#sk-container-id-1 label.sk-toggleable__label {cursor: pointer;display: block;width: 100%;margin-bottom: 0;padding: 0.3em;box-sizing: border-box;text-align: center;}#sk-container-id-1 label.sk-toggleable__label-arrow:before {content: \"▸\";float: left;margin-right: 0.25em;color: #696969;}#sk-container-id-1 label.sk-toggleable__label-arrow:hover:before {color: black;}#sk-container-id-1 div.sk-estimator:hover label.sk-toggleable__label-arrow:before {color: black;}#sk-container-id-1 div.sk-toggleable__content {max-height: 0;max-width: 0;overflow: hidden;text-align: left;background-color: #f0f8ff;}#sk-container-id-1 div.sk-toggleable__content pre {margin: 0.2em;color: black;border-radius: 0.25em;background-color: #f0f8ff;}#sk-container-id-1 input.sk-toggleable__control:checked~div.sk-toggleable__content {max-height: 200px;max-width: 100%;overflow: auto;}#sk-container-id-1 input.sk-toggleable__control:checked~label.sk-toggleable__label-arrow:before {content: \"▾\";}#sk-container-id-1 div.sk-estimator input.sk-toggleable__control:checked~label.sk-toggleable__label {background-color: #d4ebff;}#sk-container-id-1 div.sk-label input.sk-toggleable__control:checked~label.sk-toggleable__label {background-color: #d4ebff;}#sk-container-id-1 input.sk-hidden--visually {border: 0;clip: rect(1px 1px 1px 1px);clip: rect(1px, 1px, 1px, 1px);height: 1px;margin: -1px;overflow: hidden;padding: 0;position: absolute;width: 1px;}#sk-container-id-1 div.sk-estimator {font-family: monospace;background-color: #f0f8ff;border: 1px dotted black;border-radius: 0.25em;box-sizing: border-box;margin-bottom: 0.5em;}#sk-container-id-1 div.sk-estimator:hover {background-color: #d4ebff;}#sk-container-id-1 div.sk-parallel-item::after {content: \"\";width: 100%;border-bottom: 1px solid gray;flex-grow: 1;}#sk-container-id-1 div.sk-label:hover label.sk-toggleable__label {background-color: #d4ebff;}#sk-container-id-1 div.sk-serial::before {content: \"\";position: absolute;border-left: 1px solid gray;box-sizing: border-box;top: 0;bottom: 0;left: 50%;z-index: 0;}#sk-container-id-1 div.sk-serial {display: flex;flex-direction: column;align-items: center;background-color: white;padding-right: 0.2em;padding-left: 0.2em;position: relative;}#sk-container-id-1 div.sk-item {position: relative;z-index: 1;}#sk-container-id-1 div.sk-parallel {display: flex;align-items: stretch;justify-content: center;background-color: white;position: relative;}#sk-container-id-1 div.sk-item::before, #sk-container-id-1 div.sk-parallel-item::before {content: \"\";position: absolute;border-left: 1px solid gray;box-sizing: border-box;top: 0;bottom: 0;left: 50%;z-index: -1;}#sk-container-id-1 div.sk-parallel-item {display: flex;flex-direction: column;z-index: 1;position: relative;background-color: white;}#sk-container-id-1 div.sk-parallel-item:first-child::after {align-self: flex-end;width: 50%;}#sk-container-id-1 div.sk-parallel-item:last-child::after {align-self: flex-start;width: 50%;}#sk-container-id-1 div.sk-parallel-item:only-child::after {width: 0;}#sk-container-id-1 div.sk-dashed-wrapped {border: 1px dashed gray;margin: 0 0.4em 0.5em 0.4em;box-sizing: border-box;padding-bottom: 0.4em;background-color: white;}#sk-container-id-1 div.sk-label label {font-family: monospace;font-weight: bold;display: inline-block;line-height: 1.2em;}#sk-container-id-1 div.sk-label-container {text-align: center;}#sk-container-id-1 div.sk-container {/* jupyter's `normalize.less` sets `[hidden] { display: none; }` but bootstrap.min.css set `[hidden] { display: none !important; }` so we also need the `!important` here to be able to override the default hidden behavior on the sphinx rendered scikit-learn.org. See: https://github.com/scikit-learn/scikit-learn/issues/21755 */display: inline-block !important;position: relative;}#sk-container-id-1 div.sk-text-repr-fallback {display: none;}</style><div id=\"sk-container-id-1\" class=\"sk-top-container\"><div class=\"sk-text-repr-fallback\"><pre>LGBMClassifier(learning_rate=0.04, max_depth=15, n_estimators=800,\n",
       "               num_leaves=256)</pre><b>In a Jupyter environment, please rerun this cell to show the HTML representation or trust the notebook. <br />On GitHub, the HTML representation is unable to render, please try loading this page with nbviewer.org.</b></div><div class=\"sk-container\" hidden><div class=\"sk-item\"><div class=\"sk-estimator sk-toggleable\"><input class=\"sk-toggleable__control sk-hidden--visually\" id=\"sk-estimator-id-1\" type=\"checkbox\" checked><label for=\"sk-estimator-id-1\" class=\"sk-toggleable__label sk-toggleable__label-arrow\">LGBMClassifier</label><div class=\"sk-toggleable__content\"><pre>LGBMClassifier(learning_rate=0.04, max_depth=15, n_estimators=800,\n",
       "               num_leaves=256)</pre></div></div></div></div></div>"
      ],
      "text/plain": [
       "LGBMClassifier(learning_rate=0.04, max_depth=15, n_estimators=800,\n",
       "               num_leaves=256)"
      ]
     },
     "execution_count": 21,
     "metadata": {},
     "output_type": "execute_result"
    }
   ],
   "source": [
    "%%time\n",
    "\n",
    "X_train, X_val, y_train, y_val = get_stratified_data(train_data)\n",
    "eval_set = [(X_val, y_val), (X_train, y_train)]\n",
    "\n",
    "lgbm = LGBMClassifier(learning_rate=0.04, n_estimators=800, max_depth=15, num_leaves=256)\n",
    "lgbm.fit(X_train, y_train, eval_set=eval_set, early_stopping_rounds=40, verbose=10)"
   ]
  },
  {
   "cell_type": "code",
   "execution_count": 22,
   "metadata": {},
   "outputs": [
    {
     "name": "stdout",
     "output_type": "stream",
     "text": [
      "recall: 99.9325%\n",
      "precision: 99.8876%\n",
      "f1 score: 99.9100%\n",
      "\n"
     ]
    }
   ],
   "source": [
    "y_pred = lgbm.predict(X_val)\n",
    "evaluate(y_val, y_pred)"
   ]
  },
  {
   "cell_type": "code",
   "execution_count": 23,
   "metadata": {},
   "outputs": [
    {
     "data": {
      "text/plain": [
       "<AxesSubplot:title={'center':'Metric during training'}, xlabel='Iterations', ylabel='binary_logloss'>"
      ]
     },
     "execution_count": 23,
     "metadata": {},
     "output_type": "execute_result"
    },
    {
     "data": {
      "image/png": "[encoded data removed]",
      "text/plain": [
       "<Figure size 432x288 with 1 Axes>"
      ]
     },
     "metadata": {
      "needs_background": "light"
     },
     "output_type": "display_data"
    }
   ],
   "source": [
    "lgb.plot_metric(lgbm)"
   ]
  },
  {
   "cell_type": "code",
   "execution_count": 24,
   "metadata": {},
   "outputs": [
    {
     "data": {
      "image/png": "[encoded data removed]",
      "text/plain": [
       "<Figure size 432x288 with 1 Axes>"
      ]
     },
     "metadata": {
      "needs_background": "light"
     },
     "output_type": "display_data"
    }
   ],
   "source": [
    "ax = lgb.plot_importance(lgbm, max_num_features=15)\n",
    "plt.show()"
   ]
  },
  {
   "cell_type": "markdown",
   "metadata": {},
   "source": [
    "## 7. Submission"
   ]
  },
  {
   "cell_type": "code",
   "execution_count": 25,
   "metadata": {},
   "outputs": [
    {
     "data": {
      "text/plain": [
       "array([1., 1., 1., ..., 0., 0., 0.])"
      ]
     },
     "execution_count": 25,
     "metadata": {},
     "output_type": "execute_result"
    }
   ],
   "source": [
    "test_pred = lgbm.predict(test_data)\n",
    "test_pred"
   ]
  },
  {
   "cell_type": "code",
   "execution_count": 26,
   "metadata": {},
   "outputs": [
    {
     "data": {
      "text/html": [
       "<div>\n",
       "<style scoped>\n",
       "    .dataframe tbody tr th:only-of-type {\n",
       "        vertical-align: middle;\n",
       "    }\n",
       "\n",
       "    .dataframe tbody tr th {\n",
       "        vertical-align: top;\n",
       "    }\n",
       "\n",
       "    .dataframe thead th {\n",
       "        text-align: right;\n",
       "    }\n",
       "</style>\n",
       "<table border=\"1\" class=\"dataframe\">\n",
       "  <thead>\n",
       "    <tr style=\"text-align: right;\">\n",
       "      <th></th>\n",
       "      <th>Unnamed: 0</th>\n",
       "      <th>FKP02</th>\n",
       "      <th>Status</th>\n",
       "    </tr>\n",
       "  </thead>\n",
       "  <tbody>\n",
       "    <tr>\n",
       "      <th>0</th>\n",
       "      <td>1</td>\n",
       "      <td>954386050</td>\n",
       "      <td>1</td>\n",
       "    </tr>\n",
       "    <tr>\n",
       "      <th>1</th>\n",
       "      <td>2</td>\n",
       "      <td>774246805</td>\n",
       "      <td>1</td>\n",
       "    </tr>\n",
       "    <tr>\n",
       "      <th>2</th>\n",
       "      <td>3</td>\n",
       "      <td>1202010273</td>\n",
       "      <td>1</td>\n",
       "    </tr>\n",
       "    <tr>\n",
       "      <th>3</th>\n",
       "      <td>4</td>\n",
       "      <td>1286640248</td>\n",
       "      <td>1</td>\n",
       "    </tr>\n",
       "    <tr>\n",
       "      <th>4</th>\n",
       "      <td>5</td>\n",
       "      <td>1285179242</td>\n",
       "      <td>1</td>\n",
       "    </tr>\n",
       "    <tr>\n",
       "      <th>...</th>\n",
       "      <td>...</td>\n",
       "      <td>...</td>\n",
       "      <td>...</td>\n",
       "    </tr>\n",
       "    <tr>\n",
       "      <th>1014220</th>\n",
       "      <td>1014221</td>\n",
       "      <td>248870919P000406</td>\n",
       "      <td>0</td>\n",
       "    </tr>\n",
       "    <tr>\n",
       "      <th>1014221</th>\n",
       "      <td>1014222</td>\n",
       "      <td>116000620P000034</td>\n",
       "      <td>0</td>\n",
       "    </tr>\n",
       "    <tr>\n",
       "      <th>1014222</th>\n",
       "      <td>1014223</td>\n",
       "      <td>160421019P000631</td>\n",
       "      <td>0</td>\n",
       "    </tr>\n",
       "    <tr>\n",
       "      <th>1014223</th>\n",
       "      <td>1014224</td>\n",
       "      <td>332670919P000083</td>\n",
       "      <td>0</td>\n",
       "    </tr>\n",
       "    <tr>\n",
       "      <th>1014224</th>\n",
       "      <td>1014225</td>\n",
       "      <td>106050119Y000587</td>\n",
       "      <td>0</td>\n",
       "    </tr>\n",
       "  </tbody>\n",
       "</table>\n",
       "<p>1014225 rows × 3 columns</p>\n",
       "</div>"
      ],
      "text/plain": [
       "        Unnamed: 0             FKP02  Status\n",
       "0                1         954386050       1\n",
       "1                2         774246805       1\n",
       "2                3        1202010273       1\n",
       "3                4        1286640248       1\n",
       "4                5        1285179242       1\n",
       "...            ...               ...     ...\n",
       "1014220    1014221  248870919P000406       0\n",
       "1014221    1014222  116000620P000034       0\n",
       "1014222    1014223  160421019P000631       0\n",
       "1014223    1014224  332670919P000083       0\n",
       "1014224    1014225  106050119Y000587       0\n",
       "\n",
       "[1014225 rows x 3 columns]"
      ]
     },
     "execution_count": 26,
     "metadata": {},
     "output_type": "execute_result"
    }
   ],
   "source": [
    "form_submit = pd.read_csv(\"form_submission.csv\")\n",
    "form_submit[\"Status\"] = test_pred\n",
    "\n",
    "form_submit[\"Unnamed: 0\"] = form_submit[\"Unnamed: 0\"].astype(str)\n",
    "form_submit[\"FKP02\"] = form_submit[\"FKP02\"].astype(str)\n",
    "form_submit[\"Status\"] = form_submit[\"Status\"].astype(int)\n",
    "form_submit"
   ]
  },
  {
   "cell_type": "code",
   "execution_count": 27,
   "metadata": {},
   "outputs": [],
   "source": [
    "form_submit.to_csv(\"submission.csv\", index=False, quoting=csv.QUOTE_NONNUMERIC)"
   ]
  },
  {
   "cell_type": "markdown",
   "metadata": {},
   "source": [
    "Leaderboard score : 99.9071%"
   ]
  },
  {
   "cell_type": "markdown",
   "metadata": {},
   "source": []
  }
 ],
 "metadata": {
  "kernelspec": {
   "display_name": "Python 3.10.7 64-bit",
   "language": "python",
   "name": "python3"
  },
  "language_info": {
   "codemirror_mode": {
    "name": "ipython",
    "version": 3
   },
   "file_extension": ".py",
   "mimetype": "text/x-python",
   "name": "python",
   "nbconvert_exporter": "python",
   "pygments_lexer": "ipython3",
   "version": "3.10.7"
  },
  "orig_nbformat": 4,
  "vscode": {
   "interpreter": {
    "hash": "39b5bd11e2fab3fd88242d249681ebb0619828dea3cd016603926c72624e09a8"
   }
  }
 },
 "nbformat": 4,
 "nbformat_minor": 2
}
